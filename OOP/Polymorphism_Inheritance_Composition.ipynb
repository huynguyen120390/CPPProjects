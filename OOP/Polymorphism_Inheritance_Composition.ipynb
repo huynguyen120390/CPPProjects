{
 "cells": [
  {
   "cell_type": "markdown",
   "metadata": {},
   "source": [
    "# Polymorphism, Inheritance, Composition"
   ]
  },
  {
   "cell_type": "code",
   "execution_count": null,
   "metadata": {},
   "outputs": [],
   "source": [
    "#include <iostream>\n",
    "#include <string>\n",
    "\n",
    "using namespace std;"
   ]
  },
  {
   "cell_type": "markdown",
   "metadata": {},
   "source": [
    "- Polymorphism is a subject in multiple forms.\n",
    "- Inheritance: derived/child class inherits from base/parent class.\n",
    "- Composition: a class includes one or more other classes.\n",
    "\n"
   ]
  },
  {
   "cell_type": "markdown",
   "metadata": {},
   "source": [
    "## Inheritance"
   ]
  },
  {
   "cell_type": "markdown",
   "metadata": {},
   "source": [
    "#### Example on inheritance - Animal"
   ]
  },
  {
   "cell_type": "code",
   "execution_count": null,
   "metadata": {},
   "outputs": [],
   "source": [
    "class Animal{\n",
    "    public:\n",
    "        void talk() const {cout << \"Talk in animal language\\n\";};\n",
    "};\n",
    "\n",
    "class Human : public Animal{ //Human inherits from Animal\n",
    "    public:\n",
    "        void talk(string content) const {cout << content<<endl;};\n",
    "        void walk() const {cout << \"I'm walking\\n\";};\n",
    "};"
   ]
  },
  {
   "cell_type": "code",
   "execution_count": null,
   "metadata": {},
   "outputs": [],
   "source": [
    "Animal animal;\n",
    "animal.talk(); //Output should be Talk in animal language\n",
    "Human human; \n",
    "human.talk(\"Hello world!\"); // Human inherits talk() from Animal, but overload it, so output should be Hello"
   ]
  },
  {
   "cell_type": "markdown",
   "metadata": {},
   "source": [
    "#### Example on inheritance - Vehicle"
   ]
  },
  {
   "cell_type": "code",
   "execution_count": null,
   "metadata": {},
   "outputs": [],
   "source": [
    "class Vehicle{\n",
    "    public :\n",
    "        int wheels = 0;\n",
    "        string color = \"blue\";\n",
    "        string material = \"metal\";\n",
    "    \n",
    "        void to_string() const{\n",
    "            cout << \"The vehicle has \"<<wheels<<\" wheels, and color of \"<<color<<endl;\n",
    "        }\n",
    "};\n",
    "\n",
    "class Car : public Vehicle{\n",
    "    public:\n",
    "        bool sunroof = 0;  \n",
    "};\n",
    "\n",
    "class Bicycle : public Vehicle{\n",
    "    public:\n",
    "        bool kickstand = true;\n",
    "};"
   ]
  },
  {
   "cell_type": "code",
   "execution_count": null,
   "metadata": {},
   "outputs": [],
   "source": [
    "Car car;\n",
    "Bicycle bike;\n",
    "car.wheels = 4;\n",
    "bike.wheels = 2;\n",
    "car.color = \"white\";\n",
    "bike.color = \"pink\";\n",
    "car.to_string();\n",
    "bike.to_string();"
   ]
  },
  {
   "cell_type": "markdown",
   "metadata": {},
   "source": [
    "### Inherited Access Specifiers - public , protected, private"
   ]
  },
  {
   "cell_type": "markdown",
   "metadata": {},
   "source": [
    "Specify which class members is accessable. \n",
    "    + public : members are accessable from derived classes, and objects of the class\n",
    "    + protected : ...???\n",
    "    + private : members are unaccessable from derived classes, or objects of the class , except \"friended\" member"
   ]
  },
  {
   "cell_type": "markdown",
   "metadata": {},
   "source": [
    "#### Example on Inherited Access Specifiers "
   ]
  },
  {
   "cell_type": "code",
   "execution_count": null,
   "metadata": {},
   "outputs": [],
   "source": [
    "#include <iostream>\n",
    "#include <string>\n",
    "using namespace std;\n",
    "// Define base class Animal\n",
    "class Animal2{\n",
    "    public:\n",
    "        string color = \"[color]\";\n",
    "        string name = \"[animal]\";\n",
    "        int age = 0;\n",
    "        void make_sound() const {cout << \"animal\\n\";}\n",
    "};\n",
    "\n",
    "// Declare derived class Snake\n",
    "class Snake : protected Animal2{\n",
    "    public:\n",
    "        float length = 0;\n",
    "        void make_sound() const {cout << \"hiss\\n\";}\n",
    "};\n",
    "\n",
    "// Declare derived class Cat\n",
    "class Cat : public Animal2{\n",
    "    public:\n",
    "        float height = 0;\n",
    "        void make_sound() const {cout <<\"meow\\n\";}\n",
    "};\n",
    "\n",
    "class Pig : private Animal2{\n",
    "    public:\n",
    "        float weight = 0;\n",
    "        void make_sound() const {cout <<\"oc\\n\";}\n",
    "};\n",
    "// Test in main()\n",
    "\n"
   ]
  },
  {
   "cell_type": "code",
   "execution_count": null,
   "metadata": {},
   "outputs": [],
   "source": [
    "Snake snake; Cat cat; Pig pig;\n",
    "snake.make_sound(); \n",
    "cat.make_sound();\n",
    "cat.color = \"gray\";cout << cat.color; //public\n",
    "//snake.color = \"green\";// Doesn't work, because constrained by protected inheritance here\n",
    "//pig.color = \"pink\";// Doesn't work, because constrained by private inheritance here\n"
   ]
  },
  {
   "cell_type": "markdown",
   "metadata": {},
   "source": [
    "## Composition"
   ]
  },
  {
   "cell_type": "code",
   "execution_count": 1,
   "metadata": {},
   "outputs": [],
   "source": [
    "// Example solution for Circle class\n",
    "#include <iostream>\n",
    "#include <cmath>\n",
    "#include <assert.h>\n",
    "// Define PI\n",
    "#define PI 3.14159;\n",
    "\n",
    "\n",
    "// Define LineSegment struct\n",
    "class LineSegment {\n",
    "// Define protected attribute length\n",
    "public:\n",
    "    double length;\n",
    "};\n",
    "\n",
    "// Define Circle class\n",
    "class Circle {\n",
    "public:\n",
    "    // Notice radius_ is initalized when Circle constructor is called\n",
    "    Circle(LineSegment& radius) : radius_(radius) {} \n",
    "    double Area();\n",
    "\n",
    "private:\n",
    "    LineSegment& radius_;\n",
    "};"
   ]
  },
  {
   "cell_type": "code",
   "execution_count": 2,
   "metadata": {},
   "outputs": [
    {
     "name": "stderr",
     "output_type": "stream",
     "text": [
      "\u001b[1minput_line_10:2:10: \u001b[0m\u001b[0;1;31merror: \u001b[0m\u001b[1mcall to non-static member function without an object argument\u001b[0m\n",
      " Circle::Area() {\n",
      "\u001b[0;1;32m ~~~~~~~~^~~~\n",
      "\u001b[0m"
     ]
    },
    {
     "ename": "Interpreter Error",
     "evalue": "",
     "output_type": "error",
     "traceback": [
      "Interpreter Error: "
     ]
    }
   ],
   "source": [
    "Circle::Area() {\n",
    "        return pow(Circle::radius_.length, 2) * PI;\n",
    "    }"
   ]
  },
  {
   "cell_type": "code",
   "execution_count": null,
   "metadata": {},
   "outputs": [],
   "source": [
    "// Test in main()\n",
    "LineSegment radius {3};\n",
    "Circle circle(radius);\n",
    "assert(int(circle.Area()) == 28);\n"
   ]
  },
  {
   "cell_type": "code",
   "execution_count": null,
   "metadata": {
    "slideshow": {
     "slide_type": "-"
    }
   },
   "outputs": [],
   "source": []
  },
  {
   "cell_type": "code",
   "execution_count": null,
   "metadata": {},
   "outputs": [],
   "source": []
  },
  {
   "cell_type": "code",
   "execution_count": null,
   "metadata": {},
   "outputs": [],
   "source": []
  }
 ],
 "metadata": {
  "kernelspec": {
   "display_name": "C++17",
   "language": "C++17",
   "name": "xcpp17"
  },
  "language_info": {
   "codemirror_mode": "text/x-c++src",
   "file_extension": ".cpp",
   "mimetype": "text/x-c++src",
   "name": "c++",
   "version": "-std=c++17"
  }
 },
 "nbformat": 4,
 "nbformat_minor": 2
}
